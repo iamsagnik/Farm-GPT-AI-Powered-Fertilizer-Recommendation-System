{
  "cells": [
    {
      "cell_type": "code",
      "execution_count": 2,
      "metadata": {
        "id": "GO7CHwqlqfHp"
      },
      "outputs": [],
      "source": [
        "from IPython import get_ipython\n",
        "from IPython.display import display\n",
        "from keras import __version__ # Import keras version\n",
        "tf.keras.__version__ = __version__"
      ]
    },
    {
      "cell_type": "code",
      "execution_count": 3,
      "metadata": {
        "id": "hsZNIkbNoQtT"
      },
      "outputs": [],
      "source": [
        "import numpy as np\n",
        "import pandas as pd\n",
        "import tensorflow as tf\n",
        "from tensorflow.keras.models import Model\n",
        "from tensorflow.keras.layers import (\n",
        "    Input, Dense, Embedding, Flatten, Concatenate, Dropout\n",
        ")\n",
        "from sklearn.preprocessing import LabelEncoder, StandardScaler\n",
        "from sklearn.model_selection import train_test_split\n",
        "from sklearn.utils import class_weight"
      ]
    },
    {
      "cell_type": "code",
      "execution_count": null,
      "metadata": {
        "colab": {
          "base_uri": "https://localhost:8080/"
        },
        "id": "R3f9yqTpoZ9Q",
        "outputId": "126bfe40-0bc4-41ca-bf82-cb18c1da4286"
      },
      "outputs": [
        {
          "name": "stdout",
          "output_type": "stream",
          "text": [
            "['Loamy' 'Clay' 'Sandy' 'Black']\n",
            "['cotton' 'orange' 'wheat' 'maize' 'rice' 'potato' 'tomato' 'carrot'\n",
            " 'cabbage' 'banana' 'onion' 'pepper' 'lettuce' 'sunflower' 'soybean'\n",
            " 'tobacco' 'sugarcane' 'peanut' 'coffee' 'tea']\n"
          ]
        }
      ],
      "source": [
        "df = pd.read_csv(\"my_dataset.csv\")\n",
        "print(df[\"Soil\"].unique())\n",
        "print(df[\"Crop\"].unique())"
      ]
    },
    {
      "cell_type": "code",
      "execution_count": 25,
      "metadata": {
        "colab": {
          "base_uri": "https://localhost:8080/"
        },
        "id": "jHzkVSNkZ8AW",
        "outputId": "47ab8963-66ad-4514-bba3-c9df14ff48bc"
      },
      "outputs": [
        {
          "name": "stdout",
          "output_type": "stream",
          "text": [
            "Fertilizer\n",
            "NPK 14-14-14    13191\n",
            "DAP              8148\n",
            "Urea             4882\n",
            "MOP              3779\n",
            "Name: count, dtype: int64\n"
          ]
        }
      ],
      "source": [
        "print(df['Fertilizer'].value_counts())\n"
      ]
    },
    {
      "cell_type": "code",
      "execution_count": 5,
      "metadata": {
        "colab": {
          "base_uri": "https://localhost:8080/"
        },
        "id": "xwadHHMKoodo",
        "outputId": "30ae8fa6-fad0-44cd-9c0c-6aa27f70ff57"
      },
      "outputs": [
        {
          "name": "stdout",
          "output_type": "stream",
          "text": [
            "{'Black': 0, 'Clay': 1, 'Loamy': 2, 'Sandy': 3}\n"
          ]
        }
      ],
      "source": [
        "soil_encoder = LabelEncoder()\n",
        "crop_encoder = LabelEncoder()\n",
        "df[\"Soil\"] = soil_encoder.fit_transform(df[\"Soil\"])\n",
        "df[\"Crop\"] = crop_encoder.fit_transform(df[\"Crop\"])\n",
        "\n",
        "soil_mapping = dict(zip(soil_encoder.classes_, range(len(soil_encoder.classes_))))\n",
        "print(soil_mapping)"
      ]
    },
    {
      "cell_type": "code",
      "execution_count": 6,
      "metadata": {
        "id": "kyXGP7tMosGr"
      },
      "outputs": [],
      "source": [
        "scaler = StandardScaler()\n",
        "df[[\"Temperature\", \"Nitrogen\", \"Phosphorus\", \"Potassium\"]] = scaler.fit_transform(df[[\"Temperature\", \"Nitrogen\", \"Phosphorus\", \"Potassium\"]])\n",
        "\n",
        "fertilizer_encoder = LabelEncoder()\n",
        "df[\"Fertilizer\"] = fertilizer_encoder.fit_transform(df[\"Fertilizer\"])"
      ]
    },
    {
      "cell_type": "code",
      "execution_count": 8,
      "metadata": {
        "id": "M7UMtKyAo0gD"
      },
      "outputs": [],
      "source": [
        "X = df[[\"Temperature\", \"Soil\", \"Nitrogen\", \"Phosphorus\", \"Potassium\", \"Crop\"]].values\n",
        "y = df[\"Fertilizer\"].values\n",
        "\n",
        "X_train, X_test, y_train, y_test = train_test_split(\n",
        "    X, y, test_size=0.2, random_state=42\n",
        ")"
      ]
    },
    {
      "cell_type": "code",
      "execution_count": 9,
      "metadata": {
        "id": "DQAKJ0P-o4A9"
      },
      "outputs": [],
      "source": [
        "fert_class_weights = class_weight.compute_class_weight(\n",
        "    'balanced', classes=np.unique(y_train), y=y_train\n",
        ")\n",
        "fert_class_weights = {i: w * 3 for i, w in enumerate(fert_class_weights)}"
      ]
    },
    {
      "cell_type": "code",
      "execution_count": 10,
      "metadata": {
        "id": "wWdsOgpuo7P_"
      },
      "outputs": [],
      "source": [
        "input_layer = Input(shape=(6,))\n",
        "x = Dense(256, activation=\"relu\")(input_layer)  # More units\n",
        "x = Dropout(0.3)(x)\n",
        "x = Dense(128, activation=\"relu\")(x)\n",
        "\n",
        "# Fertilizer prediction branch\n",
        "fert_branch = Dense(64, activation='relu')(x)\n",
        "fert_branch = Dropout(0.2)(fert_branch)\n",
        "fertilizer_output = Dense(\n",
        "    len(fertilizer_encoder.classes_),\n",
        "    activation=\"softmax\",\n",
        "    name=\"fertilizer_output\"\n",
        ")(fert_branch)\n",
        "\n",
        "model = Model(inputs=input_layer, outputs=fertilizer_output)"
      ]
    },
    {
      "cell_type": "code",
      "execution_count": 11,
      "metadata": {
        "id": "fGHT5GbqpAdy"
      },
      "outputs": [],
      "source": [
        "from sklearn.utils.class_weight import compute_class_weight\n",
        "import numpy as np\n",
        "\n",
        "# Compute class weights\n",
        "unique_classes = np.unique(y_train)\n",
        "class_weights = compute_class_weight(class_weight='balanced', classes=unique_classes, y=y_train)\n",
        "fert_class_weights = dict(zip(unique_classes, class_weights))"
      ]
    },
    {
      "cell_type": "code",
      "execution_count": 12,
      "metadata": {
        "colab": {
          "base_uri": "https://localhost:8080/"
        },
        "id": "bbeaRbIqpFp9",
        "outputId": "451df07f-5cf3-46a1-d047-383e71b59988"
      },
      "outputs": [
        {
          "name": "stdout",
          "output_type": "stream",
          "text": [
            "Epoch 1/50\n",
            "\u001b[1m750/750\u001b[0m \u001b[32m━━━━━━━━━━━━━━━━━━━━\u001b[0m\u001b[37m\u001b[0m \u001b[1m5s\u001b[0m 3ms/step - accuracy: 0.6508 - loss: 0.7512 - val_accuracy: 0.8163 - val_loss: 0.4423\n",
            "Epoch 2/50\n",
            "\u001b[1m750/750\u001b[0m \u001b[32m━━━━━━━━━━━━━━━━━━━━\u001b[0m\u001b[37m\u001b[0m \u001b[1m3s\u001b[0m 4ms/step - accuracy: 0.7952 - loss: 0.4392 - val_accuracy: 0.8203 - val_loss: 0.4217\n",
            "Epoch 3/50\n",
            "\u001b[1m750/750\u001b[0m \u001b[32m━━━━━━━━━━━━━━━━━━━━\u001b[0m\u001b[37m\u001b[0m \u001b[1m3s\u001b[0m 3ms/step - accuracy: 0.8111 - loss: 0.4012 - val_accuracy: 0.8282 - val_loss: 0.4047\n",
            "Epoch 4/50\n",
            "\u001b[1m750/750\u001b[0m \u001b[32m━━━━━━━━━━━━━━━━━━━━\u001b[0m\u001b[37m\u001b[0m \u001b[1m5s\u001b[0m 3ms/step - accuracy: 0.8237 - loss: 0.3740 - val_accuracy: 0.8167 - val_loss: 0.4221\n",
            "Epoch 5/50\n",
            "\u001b[1m750/750\u001b[0m \u001b[32m━━━━━━━━━━━━━━━━━━━━\u001b[0m\u001b[37m\u001b[0m \u001b[1m2s\u001b[0m 3ms/step - accuracy: 0.8218 - loss: 0.3619 - val_accuracy: 0.8297 - val_loss: 0.3803\n",
            "Epoch 6/50\n",
            "\u001b[1m750/750\u001b[0m \u001b[32m━━━━━━━━━━━━━━━━━━━━\u001b[0m\u001b[37m\u001b[0m \u001b[1m3s\u001b[0m 4ms/step - accuracy: 0.8265 - loss: 0.3630 - val_accuracy: 0.8300 - val_loss: 0.3871\n",
            "Epoch 7/50\n",
            "\u001b[1m750/750\u001b[0m \u001b[32m━━━━━━━━━━━━━━━━━━━━\u001b[0m\u001b[37m\u001b[0m \u001b[1m3s\u001b[0m 3ms/step - accuracy: 0.8284 - loss: 0.3561 - val_accuracy: 0.8382 - val_loss: 0.3576\n",
            "Epoch 8/50\n",
            "\u001b[1m750/750\u001b[0m \u001b[32m━━━━━━━━━━━━━━━━━━━━\u001b[0m\u001b[37m\u001b[0m \u001b[1m5s\u001b[0m 3ms/step - accuracy: 0.8356 - loss: 0.3379 - val_accuracy: 0.8417 - val_loss: 0.3540\n",
            "Epoch 9/50\n",
            "\u001b[1m750/750\u001b[0m \u001b[32m━━━━━━━━━━━━━━━━━━━━\u001b[0m\u001b[37m\u001b[0m \u001b[1m2s\u001b[0m 3ms/step - accuracy: 0.8399 - loss: 0.3332 - val_accuracy: 0.8493 - val_loss: 0.3479\n",
            "Epoch 10/50\n",
            "\u001b[1m750/750\u001b[0m \u001b[32m━━━━━━━━━━━━━━━━━━━━\u001b[0m\u001b[37m\u001b[0m \u001b[1m3s\u001b[0m 4ms/step - accuracy: 0.8394 - loss: 0.3320 - val_accuracy: 0.8663 - val_loss: 0.3120\n",
            "Epoch 11/50\n",
            "\u001b[1m750/750\u001b[0m \u001b[32m━━━━━━━━━━━━━━━━━━━━\u001b[0m\u001b[37m\u001b[0m \u001b[1m3s\u001b[0m 3ms/step - accuracy: 0.8508 - loss: 0.3152 - val_accuracy: 0.8337 - val_loss: 0.3655\n",
            "Epoch 12/50\n",
            "\u001b[1m750/750\u001b[0m \u001b[32m━━━━━━━━━━━━━━━━━━━━\u001b[0m\u001b[37m\u001b[0m \u001b[1m3s\u001b[0m 4ms/step - accuracy: 0.8519 - loss: 0.3078 - val_accuracy: 0.8693 - val_loss: 0.2922\n",
            "Epoch 13/50\n",
            "\u001b[1m750/750\u001b[0m \u001b[32m━━━━━━━━━━━━━━━━━━━━\u001b[0m\u001b[37m\u001b[0m \u001b[1m5s\u001b[0m 4ms/step - accuracy: 0.8601 - loss: 0.2916 - val_accuracy: 0.8598 - val_loss: 0.3331\n",
            "Epoch 14/50\n",
            "\u001b[1m750/750\u001b[0m \u001b[32m━━━━━━━━━━━━━━━━━━━━\u001b[0m\u001b[37m\u001b[0m \u001b[1m4s\u001b[0m 3ms/step - accuracy: 0.8639 - loss: 0.2942 - val_accuracy: 0.8762 - val_loss: 0.2933\n",
            "Epoch 15/50\n",
            "\u001b[1m750/750\u001b[0m \u001b[32m━━━━━━━━━━━━━━━━━━━━\u001b[0m\u001b[37m\u001b[0m \u001b[1m2s\u001b[0m 3ms/step - accuracy: 0.8760 - loss: 0.2735 - val_accuracy: 0.8652 - val_loss: 0.2866\n",
            "Epoch 16/50\n",
            "\u001b[1m750/750\u001b[0m \u001b[32m━━━━━━━━━━━━━━━━━━━━\u001b[0m\u001b[37m\u001b[0m \u001b[1m2s\u001b[0m 3ms/step - accuracy: 0.8732 - loss: 0.2702 - val_accuracy: 0.8920 - val_loss: 0.2481\n",
            "Epoch 17/50\n",
            "\u001b[1m750/750\u001b[0m \u001b[32m━━━━━━━━━━━━━━━━━━━━\u001b[0m\u001b[37m\u001b[0m \u001b[1m2s\u001b[0m 3ms/step - accuracy: 0.8788 - loss: 0.2561 - val_accuracy: 0.8708 - val_loss: 0.2901\n",
            "Epoch 18/50\n",
            "\u001b[1m750/750\u001b[0m \u001b[32m━━━━━━━━━━━━━━━━━━━━\u001b[0m\u001b[37m\u001b[0m \u001b[1m3s\u001b[0m 4ms/step - accuracy: 0.8768 - loss: 0.2607 - val_accuracy: 0.8830 - val_loss: 0.2623\n",
            "Epoch 19/50\n",
            "\u001b[1m750/750\u001b[0m \u001b[32m━━━━━━━━━━━━━━━━━━━━\u001b[0m\u001b[37m\u001b[0m \u001b[1m4s\u001b[0m 3ms/step - accuracy: 0.8771 - loss: 0.2524 - val_accuracy: 0.8758 - val_loss: 0.2759\n",
            "Epoch 20/50\n",
            "\u001b[1m750/750\u001b[0m \u001b[32m━━━━━━━━━━━━━━━━━━━━\u001b[0m\u001b[37m\u001b[0m \u001b[1m3s\u001b[0m 3ms/step - accuracy: 0.8790 - loss: 0.2517 - val_accuracy: 0.8787 - val_loss: 0.2787\n",
            "Epoch 21/50\n",
            "\u001b[1m750/750\u001b[0m \u001b[32m━━━━━━━━━━━━━━━━━━━━\u001b[0m\u001b[37m\u001b[0m \u001b[1m2s\u001b[0m 3ms/step - accuracy: 0.8854 - loss: 0.2496 - val_accuracy: 0.9045 - val_loss: 0.2274\n",
            "Epoch 22/50\n",
            "\u001b[1m750/750\u001b[0m \u001b[32m━━━━━━━━━━━━━━━━━━━━\u001b[0m\u001b[37m\u001b[0m \u001b[1m3s\u001b[0m 4ms/step - accuracy: 0.8863 - loss: 0.2428 - val_accuracy: 0.8928 - val_loss: 0.2357\n",
            "Epoch 23/50\n",
            "\u001b[1m750/750\u001b[0m \u001b[32m━━━━━━━━━━━━━━━━━━━━\u001b[0m\u001b[37m\u001b[0m \u001b[1m2s\u001b[0m 3ms/step - accuracy: 0.8892 - loss: 0.2388 - val_accuracy: 0.9013 - val_loss: 0.2259\n",
            "Epoch 24/50\n",
            "\u001b[1m750/750\u001b[0m \u001b[32m━━━━━━━━━━━━━━━━━━━━\u001b[0m\u001b[37m\u001b[0m \u001b[1m2s\u001b[0m 3ms/step - accuracy: 0.8859 - loss: 0.2417 - val_accuracy: 0.8942 - val_loss: 0.2401\n",
            "Epoch 25/50\n",
            "\u001b[1m750/750\u001b[0m \u001b[32m━━━━━━━━━━━━━━━━━━━━\u001b[0m\u001b[37m\u001b[0m \u001b[1m2s\u001b[0m 3ms/step - accuracy: 0.8859 - loss: 0.2422 - val_accuracy: 0.8933 - val_loss: 0.2363\n",
            "Epoch 26/50\n",
            "\u001b[1m750/750\u001b[0m \u001b[32m━━━━━━━━━━━━━━━━━━━━\u001b[0m\u001b[37m\u001b[0m \u001b[1m2s\u001b[0m 3ms/step - accuracy: 0.8866 - loss: 0.2420 - val_accuracy: 0.8898 - val_loss: 0.2506\n",
            "Epoch 27/50\n",
            "\u001b[1m750/750\u001b[0m \u001b[32m━━━━━━━━━━━━━━━━━━━━\u001b[0m\u001b[37m\u001b[0m \u001b[1m4s\u001b[0m 5ms/step - accuracy: 0.8856 - loss: 0.2401 - val_accuracy: 0.8965 - val_loss: 0.2396\n",
            "Epoch 28/50\n",
            "\u001b[1m750/750\u001b[0m \u001b[32m━━━━━━━━━━━━━━━━━━━━\u001b[0m\u001b[37m\u001b[0m \u001b[1m3s\u001b[0m 3ms/step - accuracy: 0.8854 - loss: 0.2407 - val_accuracy: 0.8957 - val_loss: 0.2348\n",
            "Epoch 29/50\n",
            "\u001b[1m750/750\u001b[0m \u001b[32m━━━━━━━━━━━━━━━━━━━━\u001b[0m\u001b[37m\u001b[0m \u001b[1m2s\u001b[0m 3ms/step - accuracy: 0.8894 - loss: 0.2323 - val_accuracy: 0.8740 - val_loss: 0.2763\n",
            "Epoch 30/50\n",
            "\u001b[1m750/750\u001b[0m \u001b[32m━━━━━━━━━━━━━━━━━━━━\u001b[0m\u001b[37m\u001b[0m \u001b[1m2s\u001b[0m 3ms/step - accuracy: 0.8923 - loss: 0.2281 - val_accuracy: 0.8870 - val_loss: 0.2433\n",
            "Epoch 31/50\n",
            "\u001b[1m750/750\u001b[0m \u001b[32m━━━━━━━━━━━━━━━━━━━━\u001b[0m\u001b[37m\u001b[0m \u001b[1m3s\u001b[0m 4ms/step - accuracy: 0.8942 - loss: 0.2328 - val_accuracy: 0.8863 - val_loss: 0.2613\n",
            "Epoch 32/50\n",
            "\u001b[1m750/750\u001b[0m \u001b[32m━━━━━━━━━━━━━━━━━━━━\u001b[0m\u001b[37m\u001b[0m \u001b[1m3s\u001b[0m 4ms/step - accuracy: 0.8951 - loss: 0.2268 - val_accuracy: 0.8953 - val_loss: 0.2346\n",
            "Epoch 33/50\n",
            "\u001b[1m750/750\u001b[0m \u001b[32m━━━━━━━━━━━━━━━━━━━━\u001b[0m\u001b[37m\u001b[0m \u001b[1m2s\u001b[0m 3ms/step - accuracy: 0.8909 - loss: 0.2272 - val_accuracy: 0.8947 - val_loss: 0.2262\n",
            "Epoch 34/50\n",
            "\u001b[1m750/750\u001b[0m \u001b[32m━━━━━━━━━━━━━━━━━━━━\u001b[0m\u001b[37m\u001b[0m \u001b[1m2s\u001b[0m 3ms/step - accuracy: 0.8936 - loss: 0.2267 - val_accuracy: 0.9073 - val_loss: 0.2041\n",
            "Epoch 35/50\n",
            "\u001b[1m750/750\u001b[0m \u001b[32m━━━━━━━━━━━━━━━━━━━━\u001b[0m\u001b[37m\u001b[0m \u001b[1m3s\u001b[0m 3ms/step - accuracy: 0.8941 - loss: 0.2218 - val_accuracy: 0.8792 - val_loss: 0.2473\n",
            "Epoch 36/50\n",
            "\u001b[1m750/750\u001b[0m \u001b[32m━━━━━━━━━━━━━━━━━━━━\u001b[0m\u001b[37m\u001b[0m \u001b[1m3s\u001b[0m 4ms/step - accuracy: 0.8925 - loss: 0.2212 - val_accuracy: 0.9038 - val_loss: 0.2262\n",
            "Epoch 37/50\n",
            "\u001b[1m750/750\u001b[0m \u001b[32m━━━━━━━━━━━━━━━━━━━━\u001b[0m\u001b[37m\u001b[0m \u001b[1m3s\u001b[0m 4ms/step - accuracy: 0.8882 - loss: 0.2249 - val_accuracy: 0.8770 - val_loss: 0.2667\n",
            "Epoch 38/50\n",
            "\u001b[1m750/750\u001b[0m \u001b[32m━━━━━━━━━━━━━━━━━━━━\u001b[0m\u001b[37m\u001b[0m \u001b[1m4s\u001b[0m 3ms/step - accuracy: 0.8874 - loss: 0.2306 - val_accuracy: 0.8880 - val_loss: 0.2503\n",
            "Epoch 39/50\n",
            "\u001b[1m750/750\u001b[0m \u001b[32m━━━━━━━━━━━━━━━━━━━━\u001b[0m\u001b[37m\u001b[0m \u001b[1m3s\u001b[0m 3ms/step - accuracy: 0.8935 - loss: 0.2253 - val_accuracy: 0.8927 - val_loss: 0.2349\n",
            "Epoch 40/50\n",
            "\u001b[1m750/750\u001b[0m \u001b[32m━━━━━━━━━━━━━━━━━━━━\u001b[0m\u001b[37m\u001b[0m \u001b[1m3s\u001b[0m 3ms/step - accuracy: 0.8971 - loss: 0.2160 - val_accuracy: 0.8982 - val_loss: 0.2207\n",
            "Epoch 41/50\n",
            "\u001b[1m750/750\u001b[0m \u001b[32m━━━━━━━━━━━━━━━━━━━━\u001b[0m\u001b[37m\u001b[0m \u001b[1m3s\u001b[0m 4ms/step - accuracy: 0.8949 - loss: 0.2252 - val_accuracy: 0.8962 - val_loss: 0.2414\n",
            "Epoch 42/50\n",
            "\u001b[1m750/750\u001b[0m \u001b[32m━━━━━━━━━━━━━━━━━━━━\u001b[0m\u001b[37m\u001b[0m \u001b[1m4s\u001b[0m 3ms/step - accuracy: 0.8992 - loss: 0.2173 - val_accuracy: 0.8720 - val_loss: 0.2747\n",
            "Epoch 43/50\n",
            "\u001b[1m750/750\u001b[0m \u001b[32m━━━━━━━━━━━━━━━━━━━━\u001b[0m\u001b[37m\u001b[0m \u001b[1m2s\u001b[0m 3ms/step - accuracy: 0.8952 - loss: 0.2169 - val_accuracy: 0.9007 - val_loss: 0.2132\n",
            "Epoch 44/50\n",
            "\u001b[1m750/750\u001b[0m \u001b[32m━━━━━━━━━━━━━━━━━━━━\u001b[0m\u001b[37m\u001b[0m \u001b[1m3s\u001b[0m 4ms/step - accuracy: 0.9041 - loss: 0.2068 - val_accuracy: 0.9008 - val_loss: 0.2255\n",
            "Epoch 45/50\n",
            "\u001b[1m750/750\u001b[0m \u001b[32m━━━━━━━━━━━━━━━━━━━━\u001b[0m\u001b[37m\u001b[0m \u001b[1m4s\u001b[0m 3ms/step - accuracy: 0.9022 - loss: 0.2073 - val_accuracy: 0.9050 - val_loss: 0.2181\n",
            "Epoch 46/50\n",
            "\u001b[1m750/750\u001b[0m \u001b[32m━━━━━━━━━━━━━━━━━━━━\u001b[0m\u001b[37m\u001b[0m \u001b[1m2s\u001b[0m 3ms/step - accuracy: 0.8999 - loss: 0.2134 - val_accuracy: 0.9078 - val_loss: 0.2126\n",
            "Epoch 47/50\n",
            "\u001b[1m750/750\u001b[0m \u001b[32m━━━━━━━━━━━━━━━━━━━━\u001b[0m\u001b[37m\u001b[0m \u001b[1m2s\u001b[0m 3ms/step - accuracy: 0.9016 - loss: 0.2049 - val_accuracy: 0.8975 - val_loss: 0.2170\n",
            "Epoch 48/50\n",
            "\u001b[1m750/750\u001b[0m \u001b[32m━━━━━━━━━━━━━━━━━━━━\u001b[0m\u001b[37m\u001b[0m \u001b[1m3s\u001b[0m 3ms/step - accuracy: 0.8988 - loss: 0.2079 - val_accuracy: 0.9032 - val_loss: 0.2262\n",
            "Epoch 49/50\n",
            "\u001b[1m750/750\u001b[0m \u001b[32m━━━━━━━━━━━━━━━━━━━━\u001b[0m\u001b[37m\u001b[0m \u001b[1m5s\u001b[0m 3ms/step - accuracy: 0.9018 - loss: 0.2093 - val_accuracy: 0.9100 - val_loss: 0.2028\n",
            "Epoch 50/50\n",
            "\u001b[1m750/750\u001b[0m \u001b[32m━━━━━━━━━━━━━━━━━━━━\u001b[0m\u001b[37m\u001b[0m \u001b[1m3s\u001b[0m 3ms/step - accuracy: 0.9059 - loss: 0.1970 - val_accuracy: 0.8978 - val_loss: 0.2269\n",
            "\u001b[1m188/188\u001b[0m \u001b[32m━━━━━━━━━━━━━━━━━━━━\u001b[0m\u001b[37m\u001b[0m \u001b[1m0s\u001b[0m 2ms/step - accuracy: 0.8993 - loss: 0.2274\n",
            "\n",
            "Final Test Accuracy: 89.78%\n"
          ]
        }
      ],
      "source": [
        "model.compile(\n",
        "    optimizer=\"adam\",\n",
        "    loss=tf.keras.losses.SparseCategoricalCrossentropy(from_logits=False),\n",
        "    metrics=['accuracy']\n",
        ")\n",
        "\n",
        "# ======= MODEL TRAINING =======\n",
        "history = model.fit(\n",
        "    X_train,\n",
        "    y_train,\n",
        "    validation_data=(X_test, y_test),\n",
        "    epochs=50,\n",
        "    batch_size=32,\n",
        "    class_weight=fert_class_weights\n",
        ")\n",
        "\n",
        "# ======= EVALUATION =======\n",
        "loss, accuracy = model.evaluate(X_test, y_test)\n",
        "print(f\"\\nFinal Test Accuracy: {accuracy*100:.2f}%\")"
      ]
    },
    {
      "cell_type": "code",
      "execution_count": 13,
      "metadata": {
        "id": "B75HMvfEpfTq"
      },
      "outputs": [],
      "source": [
        "def predict_fertilizer(raw_input):\n",
        "    \"\"\"Simplified prediction function with proper feature handling\"\"\"\n",
        "    # Extract features in order: [Temp, Soil, N, P, K, Crop]\n",
        "    temp = raw_input[0]\n",
        "    soil = raw_input[1]\n",
        "    n = raw_input[2]\n",
        "    p = raw_input[3]\n",
        "    k = raw_input[4]\n",
        "    crop = raw_input[5].lower()\n",
        "\n",
        "    # Process numerical features (Temp, N, P, K)\n",
        "    num_features = np.array([[temp, n, p, k]])\n",
        "    scaled_num = scaler.transform(num_features)\n",
        "\n",
        "    # Process categorical features (Soil, Crop)\n",
        "    encoded_soil = soil_encoder.transform([soil])[0]\n",
        "    encoded_crop = crop_encoder.transform([crop])[0]\n",
        "\n",
        "    # Create final input array in correct order\n",
        "    model_input = np.array([[\n",
        "        scaled_num[0][0],  # Scaled Temperature\n",
        "        encoded_soil,      # Encoded Soil\n",
        "        scaled_num[0][1],  # Scaled Nitrogen\n",
        "        scaled_num[0][2],  # Scaled Phosphorus\n",
        "        scaled_num[0][3],  # Scaled Potassium\n",
        "        encoded_crop       # Encoded Crop\n",
        "    ]])\n",
        "\n",
        "    # Make prediction\n",
        "    pred = model.predict(model_input)\n",
        "    return fertilizer_encoder.inverse_transform([np.argmax(pred)])[0]"
      ]
    },
    {
      "cell_type": "code",
      "execution_count": 14,
      "metadata": {
        "id": "AXpzMIn9tk90"
      },
      "outputs": [],
      "source": [
        "model.save('my_model.keras')"
      ]
    },
    {
      "cell_type": "code",
      "execution_count": 15,
      "metadata": {
        "colab": {
          "base_uri": "https://localhost:8080/"
        },
        "id": "pALmnr0mxQ_j",
        "outputId": "38a34af5-b5ed-4dbe-ebee-4b8b88e1accd"
      },
      "outputs": [
        {
          "data": {
            "text/plain": [
              "['fertilizer_encoder.pkl']"
            ]
          },
          "execution_count": 15,
          "metadata": {},
          "output_type": "execute_result"
        }
      ],
      "source": [
        "import joblib\n",
        "joblib.dump(scaler, 'scaler.pkl')\n",
        "joblib.dump(soil_encoder, 'soil_encoder.pkl')\n",
        "joblib.dump(crop_encoder, 'crop_encoder.pkl')\n",
        "joblib.dump(fertilizer_encoder, 'fertilizer_encoder.pkl')"
      ]
    },
    {
      "cell_type": "code",
      "execution_count": 21,
      "metadata": {
        "colab": {
          "base_uri": "https://localhost:8080/"
        },
        "id": "bI_zRMIxppMc",
        "outputId": "4a358bae-2db9-4285-8255-dae9bc691ff8"
      },
      "outputs": [
        {
          "name": "stdout",
          "output_type": "stream",
          "text": [
            "\u001b[1m1/1\u001b[0m \u001b[32m━━━━━━━━━━━━━━━━━━━━\u001b[0m\u001b[37m\u001b[0m \u001b[1m0s\u001b[0m 37ms/step\n",
            "Urea\n"
          ]
        },
        {
          "name": "stderr",
          "output_type": "stream",
          "text": [
            "/usr/local/lib/python3.11/dist-packages/sklearn/utils/validation.py:2739: UserWarning: X does not have valid feature names, but StandardScaler was fitted with feature names\n",
            "  warnings.warn(\n"
          ]
        }
      ],
      "source": [
        "sample = [28.5, \"Black\", 10, 70, 90, \"Wheat\"]\n",
        "print(predict_fertilizer(sample))"
      ]
    }
  ],
  "metadata": {
    "colab": {
      "provenance": []
    },
    "kernelspec": {
      "display_name": "Python 3",
      "name": "python3"
    },
    "language_info": {
      "name": "python"
    }
  },
  "nbformat": 4,
  "nbformat_minor": 0
}
